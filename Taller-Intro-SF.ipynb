{
 "cells": [
  {
   "cell_type": "markdown",
   "metadata": {
    "slideshow": {
     "slide_type": "-"
    }
   },
   "source": [
    "<img src=\"TBlec/Tblec.001.png\" style=\"width:100%;height:100%\"/>  "
   ]
  },
  {
   "cell_type": "markdown",
   "metadata": {
    "slideshow": {
     "slide_type": "-"
    }
   },
   "source": [
    "<img src=\"TBlec/Tblec.002.png\" style=\"width:100%;height:100%\"/>  "
   ]
  },
  {
   "cell_type": "markdown",
   "metadata": {},
   "source": [
    "<img src=\"TBlec/Tblec.003.png\" style=\"width:100%;height:100%\"/>  "
   ]
  },
  {
   "cell_type": "markdown",
   "metadata": {},
   "source": [
    "<img src=\"TBlec/Tblec.004.png\" style=\"width:100%;height:100%\"/>  "
   ]
  },
  {
   "cell_type": "markdown",
   "metadata": {},
   "source": [
    "<img src=\"TBlec/Tblec.005.png\" style=\"width:100%;height:100%\"/>  "
   ]
  },
  {
   "cell_type": "markdown",
   "metadata": {},
   "source": [
    "<img src=\"TBlec/Tblec.006.png\" style=\"width:100%;height:100%\"/>  "
   ]
  },
  {
   "cell_type": "markdown",
   "metadata": {},
   "source": [
    "<img src=\"TBlec/Tblec.007.png\" style=\"width:100%;height:100%\"/>  "
   ]
  },
  {
   "cell_type": "markdown",
   "metadata": {},
   "source": [
    "<img src=\"TBlec/Tblec.008.png\" style=\"width:100%;height:100%\"/>  "
   ]
  },
  {
   "cell_type": "markdown",
   "metadata": {},
   "source": [
    "<img src=\"TBlec/Tblec.009.png\" style=\"width:100%;height:100%\"/>  "
   ]
  },
  {
   "cell_type": "markdown",
   "metadata": {},
   "source": [
    "<img src=\"TBlec/Tblec.010.png\" style=\"width:100%;height:100%\"/>  "
   ]
  },
  {
   "cell_type": "markdown",
   "metadata": {},
   "source": [
    "<img src=\"TBlec/Tblec.011.png\" style=\"width:100%;height:100%\"/>  "
   ]
  },
  {
   "cell_type": "markdown",
   "metadata": {},
   "source": [
    "<img src=\"TBlec/Tblec.012.png\" style=\"width:100%;height:100%\"/>  "
   ]
  },
  {
   "cell_type": "markdown",
   "metadata": {},
   "source": [
    "<img src=\"TBlec/Tblec.013.png\" style=\"width:100%;height:100%\"/>  "
   ]
  },
  {
   "cell_type": "markdown",
   "metadata": {},
   "source": [
    "<img src=\"TBlec/Tblec.014.png\" style=\"width:100%;height:100%\"/>  "
   ]
  },
  {
   "cell_type": "markdown",
   "metadata": {},
   "source": [
    "<img src=\"TBlec/Tblec.015.png\" style=\"width:100%;height:100%\"/>  "
   ]
  },
  {
   "cell_type": "markdown",
   "metadata": {},
   "source": [
    "<img src=\"TBlec/Tblec.016.png\" style=\"width:100%;height:100%\"/>  "
   ]
  },
  {
   "cell_type": "code",
   "execution_count": 1,
   "metadata": {},
   "outputs": [
    {
     "name": "stdout",
     "output_type": "stream",
     "text": [
      "---------------------------------------\n",
      "report of tight-binding model\n",
      "---------------------------------------\n",
      "k-space dimension           = 0\n",
      "r-space dimension           = 3\n",
      "number of spin components   = 1\n",
      "periodic directions         = []\n",
      "number of orbitals          = 6\n",
      "number of electronic states = 6\n",
      "lattice vectors:\n",
      " #  0  ===>  [     1.0 ,     0.0 ,     0.0 ]\n",
      " #  1  ===>  [     0.0 ,     1.0 ,     0.0 ]\n",
      " #  2  ===>  [     0.0 ,     0.0 ,     1.0 ]\n",
      "positions of orbitals:\n",
      " #  0  ===>  [     0.0 ,     0.0 ,     0.0 ]\n",
      " #  1  ===>  [     0.0 ,     0.0 ,     0.0 ]\n",
      " #  2  ===>  [     0.0 ,     0.0 ,     0.0 ]\n",
      " #  3  ===>  [     0.0 ,     0.0 ,     0.0 ]\n",
      " #  4  ===>  [  0.5878 ,   0.809 ,     0.0 ]\n",
      " #  5  ===>  [  0.5878 ,  -0.809 ,     0.0 ]\n",
      "site energies:\n",
      " #  0  ===>      -1.5\n",
      " #  1  ===>      -1.2\n",
      " #  2  ===>      -1.2\n",
      " #  3  ===>      -1.2\n",
      " #  4  ===>      -1.0\n",
      " #  5  ===>      -1.0\n",
      "hoppings:\n",
      "<  0 | H |  4 >     ===>     -0.4 +     0.0 i\n",
      "<  0 | H |  5 >     ===>     -0.4 +     0.0 i\n",
      "<  1 | H |  4 >     ===>  -0.1763 +     0.0 i\n",
      "<  1 | H |  5 >     ===>  -0.1763 +     0.0 i\n",
      "<  2 | H |  4 >     ===>  -0.2427 +     0.0 i\n",
      "<  2 | H |  5 >     ===>   0.2427 +     0.0 i\n",
      "hopping distances:\n",
      "|  pos(  0 )  - pos(  4 ) |  =       1.0\n",
      "|  pos(  0 )  - pos(  5 ) |  =       1.0\n",
      "|  pos(  1 )  - pos(  4 ) |  =       1.0\n",
      "|  pos(  1 )  - pos(  5 ) |  =       1.0\n",
      "|  pos(  2 )  - pos(  4 ) |  =       1.0\n",
      "|  pos(  2 )  - pos(  5 ) |  =       1.0\n",
      "\n",
      "  n   eigval   eigvec\n",
      "  0   -1.896   [ 0.802  0.201  0.000  0.000  0.398  0.398]\n",
      "  1   -1.458   [-0.000  0.000  0.800  0.000  0.424 -0.424]\n",
      "  2   -1.242   [-0.342  0.927 -0.000 -0.000  0.110  0.110]\n",
      "  3   -1.200   [-0.000  0.000 -0.000  1.000 -0.000  0.000]\n",
      "  4   -0.742   [ 0.000 -0.000  0.600 -0.000 -0.566  0.566]\n",
      "  5   -0.562   [ 0.490  0.317 -0.000  0.000 -0.574 -0.574]\n"
     ]
    }
   ],
   "source": [
    "# import the pythtb module\n",
    "from pythtb import *\n",
    "import numpy as np\n",
    "# geometry: bond length and half bond-angle\n",
    "b=1.0; angle=54.0*np.pi/180\n",
    "# site energies [O(s), O(p), H(s)]\n",
    "eos=-1.5; eop=-1.2; eh=-1.0\n",
    "# hoppings [O(s)-H(s), O(p)-H(s)]\n",
    "ts=-0.4; tp=-0.3\n",
    "# define frame for defining vectors: 3D Cartesian\n",
    "lat=[[1.0,0.0,0.0],[0.0,1.0,0.0],[0.0,0.0,1.0]]\n",
    "# define coordinates of orbitals: O(s,px,py,pz) ; H(s) ; H(s)\n",
    "orb=[ [0.,0.,0.], [0.,0.,0.], [0.,0.,0.], [0.,0.,0.], [b*np.cos(angle), b*np.sin(angle),0.],[b*np.cos(angle),-b*np.sin(angle),0.] ]\n",
    "# define model\n",
    "my_model=tbmodel(0,3,lat,orb)\n",
    "my_model.set_onsite([eos,eop,eop,eop,eh,eh])\n",
    "my_model.set_hop(ts,0,4)\n",
    "my_model.set_hop(ts,0,5)\n",
    "my_model.set_hop(tp*np.cos(angle),1,4)\n",
    "my_model.set_hop(tp*np.cos(angle),1,5)\n",
    "my_model.set_hop(tp*np.sin(angle),2,4)\n",
    "my_model.set_hop(-tp*np.sin(angle),2,5)\n",
    "# print model\n",
    "my_model.display()\n",
    "# solve model\n",
    "(eval,evec)=my_model.solve_all(eig_vectors=True)\n",
    "# the model is real, so OK to discard imaginary parts of eigenvectors\n",
    "evec=evec.real\n",
    "# optional: choose overall sign of evec according to some specified rule\n",
    "# (here, we make the average oxygen p component positive)\n",
    "for i in range(len(eval)):\n",
    "    if sum(evec[i,1:4]) < 0:\n",
    "        evec[i,:]=-evec[i,:]\n",
    "# print results, setting numpy to format floats as xx.xxx\n",
    "np.set_printoptions(formatter={'float': '{: 6.3f}'.format})\n",
    "# print eigenvalues and real parts of eigenvectors, one to a line.\n",
    "print(\"  n   eigval   eigvec\")\n",
    "for n in range(6):\n",
    "    print(\" %2i  %7.3f  \" % (n,eval[n]), evec[n,:])"
   ]
  },
  {
   "cell_type": "code",
   "execution_count": 2,
   "metadata": {},
   "outputs": [
    {
     "name": "stdout",
     "output_type": "stream",
     "text": [
      "---------------------------------------\n",
      "report of tight-binding model\n",
      "---------------------------------------\n",
      "k-space dimension           = 0\n",
      "r-space dimension           = 2\n",
      "number of spin components   = 1\n",
      "periodic directions         = []\n",
      "number of orbitals          = 6\n",
      "number of electronic states = 6\n",
      "lattice vectors:\n",
      " #  0  ===>  [     1.0 ,     0.0 ]\n",
      " #  1  ===>  [     0.0 ,     1.0 ]\n",
      "positions of orbitals:\n",
      " #  0  ===>  [     1.2 ,     0.0 ]\n",
      " #  1  ===>  [     0.6 ,  1.0392 ]\n",
      " #  2  ===>  [    -0.6 ,  1.0392 ]\n",
      " #  3  ===>  [    -1.2 ,     0.0 ]\n",
      " #  4  ===>  [    -0.6 , -1.0392 ]\n",
      " #  5  ===>  [     0.6 , -1.0392 ]\n",
      "site energies:\n",
      " #  0  ===>      -0.4\n",
      " #  1  ===>      -0.4\n",
      " #  2  ===>      -0.4\n",
      " #  3  ===>      -0.4\n",
      " #  4  ===>      -0.4\n",
      " #  5  ===>      -0.4\n",
      "hoppings:\n",
      "<  0 | H |  1 >     ===>    -0.25 +     0.0 i\n",
      "<  1 | H |  2 >     ===>    -0.25 +     0.0 i\n",
      "<  2 | H |  3 >     ===>    -0.25 +     0.0 i\n",
      "<  3 | H |  4 >     ===>    -0.25 +     0.0 i\n",
      "<  4 | H |  5 >     ===>    -0.25 +     0.0 i\n",
      "<  5 | H |  0 >     ===>    -0.25 +     0.0 i\n",
      "hopping distances:\n",
      "|  pos(  0 )  - pos(  1 ) |  =       1.2\n",
      "|  pos(  1 )  - pos(  2 ) |  =       1.2\n",
      "|  pos(  2 )  - pos(  3 ) |  =       1.2\n",
      "|  pos(  3 )  - pos(  4 ) |  =       1.2\n",
      "|  pos(  4 )  - pos(  5 ) |  =       1.2\n",
      "|  pos(  5 )  - pos(  0 ) |  =       1.2\n",
      "\n",
      "  n   eigval   eigvec\n",
      "  0   -0.900   [-0.408 -0.408 -0.408 -0.408 -0.408 -0.408]\n",
      "  1   -0.650   [-0.563 -0.172  0.391  0.563  0.172 -0.391]\n",
      "  2   -0.650   [-0.127 -0.551 -0.424  0.127  0.551  0.424]\n",
      "  3   -0.150   [-0.440 -0.104  0.544 -0.440 -0.104  0.544]\n",
      "  4   -0.150   [ 0.374 -0.568  0.194  0.374 -0.568  0.194]\n",
      "  5    0.100   [-0.408  0.408 -0.408  0.408 -0.408  0.408]\n"
     ]
    }
   ],
   "source": [
    "# set up molecular geometry\n",
    "lat=[[1.0,0.0],[0.0,1.0]]        # define coordinate frame: 2D Cartesian\n",
    "r=1.2                            # distance of atoms from center\n",
    "orb=np.zeros((6,2),dtype=float)  # initialize array for orbital positions\n",
    "for i in range(6):               # define coordinates of orbitals\n",
    "    angle=i*np.pi/3.0\n",
    "    orb[i,:]= [r*np.cos(angle), r*np.sin(angle)]\n",
    "# set site energy and hopping amplitude, respectively\n",
    "ep=-0.4\n",
    "t=-0.25\n",
    "# define model\n",
    "   \n",
    "my_model=tbmodel(0,2,lat,orb)\n",
    "my_model.set_onsite([ep,ep,ep,ep,ep,ep])\n",
    "my_model.set_hop(t,0,1)\n",
    "my_model.set_hop(t,1,2)\n",
    "my_model.set_hop(t,2,3)\n",
    "my_model.set_hop(t,3,4)\n",
    "my_model.set_hop(t,4,5)\n",
    "my_model.set_hop(t,5,0)\n",
    "# print model\n",
    "my_model.display()\n",
    "# solve model and print results\n",
    "(eval,evec)=my_model.solve_all(eig_vectors=True)\n",
    "# print results, setting numpy to format floats as xx.xxx\n",
    "np.set_printoptions(formatter={'float': '{: 6.3f}'.format})\n",
    "# print eigenvalues and real parts of eigenvectors, one to a line\n",
    "print(\"  n   eigval   eigvec\")\n",
    "for n in range(6):\n",
    "    print(\" %2i  %7.3f  \" % (n,eval[n]), evec[n,:].real)\n"
   ]
  },
  {
   "cell_type": "code",
   "execution_count": null,
   "metadata": {},
   "outputs": [],
   "source": []
  }
 ],
 "metadata": {
  "celltoolbar": "Slideshow",
  "kernelspec": {
   "display_name": "Python 3",
   "language": "python",
   "name": "python3"
  },
  "language_info": {
   "codemirror_mode": {
    "name": "ipython",
    "version": 3
   },
   "file_extension": ".py",
   "mimetype": "text/x-python",
   "name": "python",
   "nbconvert_exporter": "python",
   "pygments_lexer": "ipython3",
   "version": "3.7.7"
  }
 },
 "nbformat": 4,
 "nbformat_minor": 5
}
